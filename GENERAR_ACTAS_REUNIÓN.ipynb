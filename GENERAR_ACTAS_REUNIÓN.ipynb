{
 "cells": [
  {
   "cell_type": "code",
   "execution_count": 1,
   "id": "573cd5fe",
   "metadata": {},
   "outputs": [],
   "source": [
    "import pandas as pd\n",
    "from datetime import datetime as dt\n",
    "from docxtpl import DocxTemplate as doc\n",
    "from docx import Document"
   ]
  },
  {
   "cell_type": "code",
   "execution_count": 2,
   "id": "fd51ef8c",
   "metadata": {},
   "outputs": [],
   "source": [
    "import traceback\n",
    "from datetime import datetime, timedelta\n",
    "import shutup\n",
    "\n",
    "shutup.please()\n",
    "import os, glob\n",
    "import shutil\n",
    "import traceback\n",
    "import time\n",
    "import pandas as pd\n",
    "import smtplib\n",
    "from email.mime.text import MIMEText\n",
    "from email.mime.multipart import MIMEMultipart\n",
    "from email.mime.image import MIMEImage\n",
    "from email.mime.application import MIMEApplication\n",
    "from email.mime.base import MIMEBase\n",
    "from email import encoders\n",
    "\n",
    "\n",
    "class Class_Correo:\n",
    "    def __init__(self, reci, cc=None):\n",
    "        self.__Correo = MIMEMultipart(\"alternative\")\n",
    "        self.__Correo[\"Date\"] = time.strftime(\n",
    "            \"%a, %d %b %Y %H:%M:%S %z\", time.localtime()\n",
    "        )\n",
    "        self.__Correo[\"From\"] = \"U201924159@upc.edu.pe\" #CAMBIAR CREDENCIAL (CORREO)\n",
    "        self.recipients = reci\n",
    "        self.__Correo[\"To\"] = \", \".join(reci)\n",
    "        if cc:\n",
    "            self.__Correo[\"Cc\"] = \", \".join(cc)\n",
    "\n",
    "    def __Enviar_Correo(self, email_subject):\n",
    "        email_username = \"U201924159@upc.edu.pe\" #CAMBIAR LAS CREDENCIALES (CORREO)\n",
    "        email_password = \"\" #CAMBIAR LAS CREDENCIALES (PASSWORD)\n",
    "        server = smtplib.SMTP(\"smtp-mail.outlook.com\", \"587\")\n",
    "        server.ehlo()\n",
    "        server.starttls()\n",
    "        server.login(email_username, email_password)\n",
    "        self.__Correo[\"Subject\"] = email_subject\n",
    "        server.sendmail(\n",
    "            self.__Correo[\"From\"],\n",
    "            self.__Correo[\"To\"].split(\",\") + self.__Correo[\"Cc\"].split(\",\") if \"Cc\" in self.__Correo else [],\n",
    "            self.__Correo.as_string(),\n",
    "        )\n",
    "        server.quit()\n",
    "\n",
    "    def Enviar_Correo_Estado(self, Asunto, Titulo):\n",
    "        self.__Enviar_Correo(Asunto)\n",
    "        self.__Correo[\"Subject\"] = Titulo\n",
    "\n",
    "    def Adjuntar_Imagen(self, ruta_img, nombre_imagen):\n",
    "        with open(ruta_img, \"rb\") as f:\n",
    "            img = MIMEImage(f.read())\n",
    "            img.add_header(\n",
    "                \"Content-Disposition\", \"attachment\", filename=ruta_img.split(\"\\\\\")[-1]\n",
    "            )\n",
    "            img.add_header(\"Content-ID\", f\"<{nombre_imagen}>\")\n",
    "            self.__Correo.attach(img)\n",
    "\n",
    "    def Cuerpo_HTML(self, HTML):\n",
    "        partHTML = MIMEText(HTML, \"html\")\n",
    "        self.__Correo.attach(partHTML)\n",
    "\n",
    "    def Adjuntar_Archivo(self, ruta_archivo, nombre_archivo):\n",
    "        with open(ruta_archivo, \"rb\") as f:\n",
    "            part = MIMEApplication(f.read(), Name=nombre_archivo)\n",
    "        part['Content-Disposition'] = f'attachment; filename=\"{nombre_archivo}\"'\n",
    "        self.__Correo.attach(part)"
   ]
  },
  {
   "cell_type": "code",
   "execution_count": 3,
   "id": "4eb1fd2b",
   "metadata": {},
   "outputs": [],
   "source": [
    "asesores = {\n",
    "    'metodologico':{\n",
    "        'nombres':'Cossio Palacios, Teresa Rocio',\n",
    "        'cargo':'Asesor metodológico',\n",
    "        'correo':'pcantcos@upc.edu.pe'\n",
    "    },\n",
    "    'especializado':{\n",
    "        'nombres':'Leon Baca, Marco Antonio',\n",
    "        'cargo':'Asesor especializado',\n",
    "        'correo':'pcsimleo@upc.edu.pe'\n",
    "    },\n",
    "    'coautor':{\n",
    "        'nombres':'Carrera Salas, Ernesto Adolfo',\n",
    "        'cargo':'Coautor',\n",
    "        'correo':'pcsierca@upc.edu.pe'\n",
    "    }\n",
    "}"
   ]
  },
  {
   "cell_type": "code",
   "execution_count": 4,
   "id": "670de84c",
   "metadata": {},
   "outputs": [
    {
     "data": {
      "text/plain": [
       "'Carrera Salas, Ernesto Adolfo'"
      ]
     },
     "execution_count": 4,
     "metadata": {},
     "output_type": "execute_result"
    }
   ],
   "source": [
    "asesores['coautor'][\"nombres\"]"
   ]
  },
  {
   "cell_type": "code",
   "execution_count": 5,
   "id": "b3940679",
   "metadata": {},
   "outputs": [],
   "source": [
    "remitentes = {\n",
    "    'rogger': 'Rogger Gustavo Barrientos Mauricio',\n",
    "    'alejandro':'Alejandro Quiros Medrano Jacobo'\n",
    "}"
   ]
  },
  {
   "cell_type": "code",
   "execution_count": 6,
   "id": "e895df18",
   "metadata": {},
   "outputs": [],
   "source": [
    "#CARGAR PLANTILLA\n",
    "ruta = r\"C:\\Users\\ROGGER\\Desktop\\Actas\\Plantilla.docx\""
   ]
  },
  {
   "cell_type": "code",
   "execution_count": 7,
   "id": "11e495b5",
   "metadata": {},
   "outputs": [],
   "source": [
    "destino = r\"C:\\Users\\ROGGER\\Desktop\\Proyectos-ACTA\""
   ]
  },
  {
   "cell_type": "code",
   "execution_count": 8,
   "id": "ea2fba69",
   "metadata": {},
   "outputs": [],
   "source": [
    "documento = doc(ruta)"
   ]
  },
  {
   "cell_type": "code",
   "execution_count": 9,
   "id": "f09f25e6",
   "metadata": {},
   "outputs": [
    {
     "data": {
      "text/plain": [
       "'Alejandro Quiros Medrano Jacobo'"
      ]
     },
     "execution_count": 9,
     "metadata": {},
     "output_type": "execute_result"
    }
   ],
   "source": [
    "remitentes[\"alejandro\"]"
   ]
  },
  {
   "cell_type": "code",
   "execution_count": 10,
   "id": "dee42a3a",
   "metadata": {},
   "outputs": [],
   "source": [
    "#VARIABLES\n",
    "fecha = fecha_head = fecha_tareas= dt.today().strftime(\"%d-%m-%Y\")\n",
    "n_acta = str(6)\n",
    "h_inicio = str(10) + \":00 pm\"\n",
    "h_fin = str(11) + \":00 pm\"\n",
    "elaborado = remitentes[\"rogger\"]\n",
    "asesor = asesor_firma = asesores['especializado']['nombres'] #cambiar por tipo de asesor\n",
    "asesor_cargo = asesor_firma_cargo = asesores['especializado']['cargo']   #cambiar por tipo de asesor\n",
    "titulo = f\"Acta de Reunión {asesores['especializado']['cargo']} \" + f\"{n_acta}\"  #cambiar por tipo de asesor\n",
    "tema = \"Revision del avance de la memoria\"\n",
    "descripcion = \"Durante la reunión el profesor hizo la revisión de la estructura de la memoria y los diagramas de arquitectura.\"\n",
    "acuerdos = \"Integrar el sistema embedido y la seccion de analisis.\"\n",
    "tareas = \"Realizar los acuerdos.\""
   ]
  },
  {
   "cell_type": "code",
   "execution_count": 11,
   "id": "322a2b93",
   "metadata": {},
   "outputs": [],
   "source": [
    "n_proyecto = \"PY20241050\""
   ]
  },
  {
   "cell_type": "code",
   "execution_count": 14,
   "id": "cc672937",
   "metadata": {},
   "outputs": [],
   "source": [
    "proyecto = f\"{n_proyecto} - Acta de Reunión \" + '20240821' + \" v.1.0\""
   ]
  },
  {
   "cell_type": "code",
   "execution_count": 12,
   "id": "b712b2fb-3cb4-465d-a6d4-7403c096afc4",
   "metadata": {},
   "outputs": [],
   "source": [
    "proyecto = f\"{n_proyecto} - Acta de Reunión \" + '20240904' + \" v.1.0\""
   ]
  },
  {
   "cell_type": "code",
   "execution_count": 43,
   "id": "60decf63-7026-4376-b75b-775962054863",
   "metadata": {},
   "outputs": [],
   "source": [
    "proyecto = f\"{n_proyecto} - Acta de Reunión \" + '20240910' + \" v.1.0\""
   ]
  },
  {
   "cell_type": "code",
   "execution_count": 12,
   "id": "30f6ca51",
   "metadata": {},
   "outputs": [],
   "source": [
    "proyecto = f\"{n_proyecto} - Acta de Reunión \" + dt.today().strftime(\"%Y%m%d\") + \" v.1.0\""
   ]
  },
  {
   "cell_type": "code",
   "execution_count": 13,
   "id": "e3fed938",
   "metadata": {},
   "outputs": [
    {
     "data": {
      "text/plain": [
       "'PY20241050 - Acta de Reunión 20240918 v.1.0'"
      ]
     },
     "execution_count": 13,
     "metadata": {},
     "output_type": "execute_result"
    }
   ],
   "source": [
    "proyecto"
   ]
  },
  {
   "cell_type": "code",
   "execution_count": 14,
   "id": "0336fbc1",
   "metadata": {},
   "outputs": [],
   "source": [
    "diccionario = {\n",
    "    'titulo':titulo,\n",
    "    'fecha': fecha,\n",
    "    'fecha_head': fecha_head,\n",
    "    'fecha_tareas': fecha_tareas,\n",
    "    'n_acta': n_acta,\n",
    "    'h_inicio': h_inicio,\n",
    "    'h_fin': h_fin,\n",
    "    'elaborado': elaborado,\n",
    "    'asesor': asesor,\n",
    "    'asesor_firma': asesor_firma,\n",
    "    'asesor_cargo': asesor_cargo,\n",
    "    'asesor_firma_cargo': asesor_firma_cargo,\n",
    "    'tema': tema,\n",
    "    'descripcion': descripcion,\n",
    "    'acuerdos': acuerdos,\n",
    "    'tareas': tareas\n",
    "}"
   ]
  },
  {
   "cell_type": "code",
   "execution_count": 15,
   "id": "982374a2",
   "metadata": {},
   "outputs": [],
   "source": [
    "ruta_envio = destino + \"\\\\\" + f\"{proyecto}.docx\""
   ]
  },
  {
   "cell_type": "code",
   "execution_count": 16,
   "id": "310ded9d",
   "metadata": {},
   "outputs": [],
   "source": [
    "nombre_archivo =  f\"{proyecto}.docx\""
   ]
  },
  {
   "cell_type": "code",
   "execution_count": 17,
   "id": "b6a8e49f",
   "metadata": {},
   "outputs": [
    {
     "data": {
      "text/plain": [
       "'PY20241050 - Acta de Reunión 20240918 v.1.0.docx'"
      ]
     },
     "execution_count": 17,
     "metadata": {},
     "output_type": "execute_result"
    }
   ],
   "source": [
    "nombre_archivo"
   ]
  },
  {
   "cell_type": "code",
   "execution_count": 18,
   "id": "3879caf1",
   "metadata": {},
   "outputs": [],
   "source": [
    "documento.render(diccionario)\n",
    "documento.save(ruta_envio)"
   ]
  },
  {
   "cell_type": "code",
   "execution_count": 19,
   "id": "1d689ef3",
   "metadata": {},
   "outputs": [],
   "source": [
    "destinatario =  asesores['especializado']['correo']\n",
    "copia = \"U201924161@upc.edu.pe\""
   ]
  },
  {
   "cell_type": "code",
   "execution_count": 20,
   "id": "bcf1b7f1",
   "metadata": {},
   "outputs": [
    {
     "data": {
      "text/plain": [
       "'Asesor especializado'"
      ]
     },
     "execution_count": 20,
     "metadata": {},
     "output_type": "execute_result"
    }
   ],
   "source": [
    "asesor_cargo"
   ]
  },
  {
   "cell_type": "code",
   "execution_count": 21,
   "id": "e7a11cc0",
   "metadata": {},
   "outputs": [
    {
     "data": {
      "text/plain": [
       "'pcsimleo@upc.edu.pe'"
      ]
     },
     "execution_count": 21,
     "metadata": {},
     "output_type": "execute_result"
    }
   ],
   "source": [
    "destinatario"
   ]
  },
  {
   "cell_type": "code",
   "execution_count": 22,
   "id": "1eb00314",
   "metadata": {},
   "outputs": [
    {
     "data": {
      "text/plain": [
       "'Asesor especializado'"
      ]
     },
     "execution_count": 22,
     "metadata": {},
     "output_type": "execute_result"
    }
   ],
   "source": [
    "asesor_cargo"
   ]
  },
  {
   "cell_type": "code",
   "execution_count": 23,
   "id": "d93d0d0c",
   "metadata": {},
   "outputs": [
    {
     "data": {
      "text/plain": [
       "'C:\\\\Users\\\\ROGGER\\\\Desktop\\\\Proyectos-ACTA\\\\PY20241050 - Acta de Reunión 20240918 v.1.0.docx'"
      ]
     },
     "execution_count": 23,
     "metadata": {},
     "output_type": "execute_result"
    }
   ],
   "source": [
    "ruta_envio"
   ]
  },
  {
   "cell_type": "code",
   "execution_count": 24,
   "id": "bdca255a",
   "metadata": {
    "scrolled": true
   },
   "outputs": [
    {
     "data": {
      "text/plain": [
       "'PY20241050 - Acta de Reunión 20240918 v.1.0'"
      ]
     },
     "execution_count": 24,
     "metadata": {},
     "output_type": "execute_result"
    }
   ],
   "source": [
    "proyecto"
   ]
  },
  {
   "cell_type": "code",
   "execution_count": 25,
   "id": "d33ab925",
   "metadata": {},
   "outputs": [
    {
     "data": {
      "text/plain": [
       "'Asesor especializado'"
      ]
     },
     "execution_count": 25,
     "metadata": {},
     "output_type": "execute_result"
    }
   ],
   "source": [
    "asesor_cargo"
   ]
  },
  {
   "cell_type": "code",
   "execution_count": 26,
   "id": "164af1a0",
   "metadata": {},
   "outputs": [
    {
     "data": {
      "text/plain": [
       "'pcsimleo@upc.edu.pe'"
      ]
     },
     "execution_count": 26,
     "metadata": {},
     "output_type": "execute_result"
    }
   ],
   "source": [
    "destinatario"
   ]
  },
  {
   "cell_type": "code",
   "execution_count": 27,
   "id": "8a0cfae6",
   "metadata": {},
   "outputs": [
    {
     "name": "stdout",
     "output_type": "stream",
     "text": [
      "Ocurrió un error:  (535, b'5.7.139 Authentication unsuccessful, SmtpClientAuthentication is disabled for the Tenant. Visit https://aka.ms/smtp_auth_disabled for more information. [SCZP152CA0005.LAMP152.PROD.OUTLOOK.COM 2024-09-12T03:27:48.653Z 08DCD213CAFC859A]')\n"
     ]
    }
   ],
   "source": [
    "try:\n",
    "    correo = Class_Correo([f\"{destinatario}\"], cc=[f\"{copia}\"])\n",
    "    cuerpo_html = f\"\"\"<html>\n",
    "                        <head>\n",
    "                          <style>\n",
    "                            body {{\n",
    "                              font-family: Arial, sans-serif;\n",
    "                            }}\n",
    "                          </style>\n",
    "                        </head>\n",
    "                        <body>\n",
    "                          <p>Estimado {asesor_cargo},</p>\n",
    "                          <p>Hago envío del acta de reunión del día {dt.today().strftime(\"%d-%m-%Y\")} para su firma.</p>\n",
    "                        </body>\n",
    "                        </html>\"\"\" \n",
    "    correo.Cuerpo_HTML(cuerpo_html)\n",
    "    correo.Adjuntar_Archivo(ruta_envio, nombre_archivo)\n",
    "    correo.Enviar_Correo_Estado(f\"Acta de reunión {n_proyecto}-\" + f\"{dt.today().strftime('%Y%m%d')}\", \"Título del correo\")\n",
    "except Exception as e:\n",
    "    print(\"Ocurrió un error: \", e)"
   ]
  },
  {
   "cell_type": "code",
   "execution_count": 31,
   "id": "692e39ef",
   "metadata": {},
   "outputs": [
    {
     "data": {
      "text/plain": [
       "'Coautor'"
      ]
     },
     "execution_count": 31,
     "metadata": {},
     "output_type": "execute_result"
    }
   ],
   "source": [
    "asesor_cargo"
   ]
  },
  {
   "cell_type": "code",
   "execution_count": 28,
   "id": "80f26d3e",
   "metadata": {},
   "outputs": [
    {
     "name": "stdout",
     "output_type": "stream",
     "text": [
      "Ocurrió un error:  (535, b'5.7.139 Authentication unsuccessful, SmtpClientAuthentication is disabled for the Tenant. Visit https://aka.ms/smtp_auth_disabled for more information. [SCZP152CA0012.LAMP152.PROD.OUTLOOK.COM 2024-09-12T03:28:08.736Z 08DCD228B1D2ED11]')\n"
     ]
    }
   ],
   "source": [
    "try:\n",
    "    correo = Class_Correo([f\"{destinatario}\"], cc=[f\"{copia}\"])\n",
    "    cuerpo_html = f\"\"\"<html>\n",
    "                        <head>\n",
    "                          <style>\n",
    "                            body {{\n",
    "                              font-family: Arial, sans-serif;\n",
    "                            }}\n",
    "                          </style>\n",
    "                        </head>\n",
    "                        <body>\n",
    "                          <p>Estimado {asesor_cargo},</p>\n",
    "                          <p>Hago envío del acta de reunión del día 14-06-2024 para su firma.</p>\n",
    "                        </body>\n",
    "                        </html>\"\"\" \n",
    "    correo.Cuerpo_HTML(cuerpo_html)\n",
    "    correo.Adjuntar_Archivo(ruta_envio, nombre_archivo)\n",
    "    correo.Enviar_Correo_Estado(f\"Acta de reunión {n_proyecto}-\" + \"20240904\", \"Título del correo\")\n",
    "except Exception as e:\n",
    "    print(\"Ocurrió un error: \", e)"
   ]
  },
  {
   "cell_type": "code",
   "execution_count": null,
   "id": "4359d250",
   "metadata": {},
   "outputs": [],
   "source": []
  }
 ],
 "metadata": {
  "kernelspec": {
   "display_name": "Python 3 (ipykernel)",
   "language": "python",
   "name": "python3"
  },
  "language_info": {
   "codemirror_mode": {
    "name": "ipython",
    "version": 3
   },
   "file_extension": ".py",
   "mimetype": "text/x-python",
   "name": "python",
   "nbconvert_exporter": "python",
   "pygments_lexer": "ipython3",
   "version": "3.12.4"
  }
 },
 "nbformat": 4,
 "nbformat_minor": 5
}
